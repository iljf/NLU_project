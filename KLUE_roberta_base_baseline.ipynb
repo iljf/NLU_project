{
  "nbformat": 4,
  "nbformat_minor": 0,
  "metadata": {
    "colab": {
      "name": "KLUE/roberta-base_baseline",
      "private_outputs": true,
      "provenance": [],
      "authorship_tag": "ABX9TyNIEnwSxAP/Q0LL0XW5EMxM",
      "include_colab_link": true
    },
    "kernelspec": {
      "name": "python3",
      "display_name": "Python 3"
    },
    "language_info": {
      "name": "python"
    },
    "accelerator": "GPU"
  },
  "cells": [
    {
      "cell_type": "markdown",
      "metadata": {
        "id": "view-in-github",
        "colab_type": "text"
      },
      "source": [
        "<a href=\"https://colab.research.google.com/github/iljf/NLU_project_team1/blob/main/KLUE_roberta_base_baseline.ipynb\" target=\"_parent\"><img src=\"https://colab.research.google.com/assets/colab-badge.svg\" alt=\"Open In Colab\"/></a>"
      ]
    },
    {
      "cell_type": "markdown",
      "source": [
        "# KLUE/Roberta-base BASELINE MODEL"
      ],
      "metadata": {
        "id": "juDqa0QY5VKW"
      }
    },
    {
      "cell_type": "code",
      "execution_count": null,
      "metadata": {
        "id": "2T_lOgNK5SEI"
      },
      "outputs": [],
      "source": [
        "!pip install sentence-transformers datasets"
      ]
    },
    {
      "cell_type": "code",
      "source": [
        "import math\n",
        "import logging\n",
        "from datetime import datetime\n",
        "\n",
        "import torch\n",
        "from torch.utils.data import DataLoader\n",
        "from datasets import load_dataset\n",
        "from sentence_transformers import SentenceTransformer,  LoggingHandler, losses, models, util\n",
        "from sentence_transformers.evaluation import EmbeddingSimilarityEvaluator\n",
        "from sentence_transformers.readers import InputExample"
      ],
      "metadata": {
        "id": "DYKbZnC15uCH"
      },
      "execution_count": null,
      "outputs": []
    },
    {
      "cell_type": "code",
      "source": [
        "logging.basicConfig(\n",
        "    format=\"%(asctime)s - %(message)s\",\n",
        "    datefmt=\"%Y-%m-%d %H:%M:%S\",\n",
        "    level=logging.INFO,\n",
        "    handlers=[LoggingHandler()],\n",
        ")"
      ],
      "metadata": {
        "id": "yl6LZC1N5wju"
      },
      "execution_count": null,
      "outputs": []
    },
    {
      "cell_type": "code",
      "source": [
        "model_name = \"klue/roberta-base\""
      ],
      "metadata": {
        "id": "4BbeBEtq5yCU"
      },
      "execution_count": null,
      "outputs": []
    },
    {
      "cell_type": "code",
      "source": [
        "train_batch_size = 32\n",
        "num_epochs = 4\n",
        "model_save_path = \"output/training_klue_sts_\" + model_name.replace(\"/\", \"-\") + \"-\" + datetime.now().strftime(\"%Y-%m-%d_%H-%M-%S\")"
      ],
      "metadata": {
        "id": "VItK__JZ5zpe"
      },
      "execution_count": null,
      "outputs": []
    },
    {
      "cell_type": "code",
      "source": [
        "embedding_model = models.Transformer(model_name)"
      ],
      "metadata": {
        "id": "j9smHMTA51fv"
      },
      "execution_count": null,
      "outputs": []
    },
    {
      "cell_type": "code",
      "source": [
        "pooler = models.Pooling(\n",
        "    embedding_model.get_word_embedding_dimension(),\n",
        "    pooling_mode_mean_tokens=True,\n",
        "    pooling_mode_cls_token=False,\n",
        "    pooling_mode_max_tokens=False,\n",
        ")"
      ],
      "metadata": {
        "id": "WSl5Lc-X5-Bv"
      },
      "execution_count": null,
      "outputs": []
    },
    {
      "cell_type": "code",
      "source": [
        "model = SentenceTransformer(modules=[embedding_model, pooler])"
      ],
      "metadata": {
        "id": "28zuN1m06DWm"
      },
      "execution_count": null,
      "outputs": []
    },
    {
      "cell_type": "code",
      "source": [
        "datasets = load_dataset(\"klue\", \"sts\")"
      ],
      "metadata": {
        "id": "XqWVd_xD6G6l"
      },
      "execution_count": null,
      "outputs": []
    },
    {
      "cell_type": "code",
      "source": [
        "datasets.keys()"
      ],
      "metadata": {
        "id": "12shio5y6LeF"
      },
      "execution_count": null,
      "outputs": []
    },
    {
      "cell_type": "code",
      "source": [
        "datasets[\"train\"][0]"
      ],
      "metadata": {
        "id": "bwLGm-8H6OHq"
      },
      "execution_count": null,
      "outputs": []
    },
    {
      "cell_type": "code",
      "source": [
        "testsets = load_dataset(\"kor_nlu\", \"sts\")"
      ],
      "metadata": {
        "id": "OtjSui1x6P77"
      },
      "execution_count": null,
      "outputs": []
    },
    {
      "cell_type": "code",
      "source": [
        "testsets.keys()"
      ],
      "metadata": {
        "id": "8ZD1OLFC6bC8"
      },
      "execution_count": null,
      "outputs": []
    },
    {
      "cell_type": "code",
      "source": [
        "testsets[\"test\"][0]"
      ],
      "metadata": {
        "id": "HSgTXg2-6epc"
      },
      "execution_count": null,
      "outputs": []
    },
    {
      "cell_type": "code",
      "source": [
        "train_samples = []\n",
        "dev_samples = []\n",
        "test_samples = []\n",
        "\n",
        "for phase in [\"train\", \"validation\"]:\n",
        "    examples = datasets[phase]\n",
        "\n",
        "    for example in examples:\n",
        "        score = float(example[\"labels\"][\"label\"]) / 5.0  \n",
        "\n",
        "        inp_example = InputExample(\n",
        "            texts=[example[\"sentence1\"], example[\"sentence2\"]], \n",
        "            label=score,\n",
        "        )\n",
        "\n",
        "        if phase == \"validation\":\n",
        "            dev_samples.append(inp_example)\n",
        "        else:\n",
        "            train_samples.append(inp_example)\n",
        "\n",
        "for example in testsets[\"test\"]:\n",
        "    score = float(example[\"score\"]) / 5.0\n",
        "\n",
        "    if example[\"sentence1\"] and example[\"sentence2\"]:\n",
        "        inp_example = InputExample(\n",
        "            texts=[example[\"sentence1\"], example[\"sentence2\"]],\n",
        "            label=score,\n",
        "        )\n",
        "\n",
        "    test_samples.append(inp_example)"
      ],
      "metadata": {
        "id": "PRa5HGGr6glW"
      },
      "execution_count": null,
      "outputs": []
    },
    {
      "cell_type": "code",
      "source": [
        "train_samples[0].texts, train_samples[0].label"
      ],
      "metadata": {
        "id": "cNYY2oRS6sFf"
      },
      "execution_count": null,
      "outputs": []
    },
    {
      "cell_type": "code",
      "source": [
        "test_samples[0].texts, test_samples[0].label"
      ],
      "metadata": {
        "id": "ml1TuXWO6wLR"
      },
      "execution_count": null,
      "outputs": []
    },
    {
      "cell_type": "code",
      "source": [
        "train_dataloader = DataLoader(\n",
        "    train_samples,\n",
        "    shuffle=True,\n",
        "    batch_size=32,\n",
        ")\n",
        "train_loss = losses.CosineSimilarityLoss(model=model)"
      ],
      "metadata": {
        "id": "hizveB816yao"
      },
      "execution_count": null,
      "outputs": []
    },
    {
      "cell_type": "code",
      "source": [
        "evaluator = EmbeddingSimilarityEvaluator.from_input_examples(\n",
        "    dev_samples,\n",
        "    name=\"sts-dev\",\n",
        ")"
      ],
      "metadata": {
        "id": "e3vGytkY7RdW"
      },
      "execution_count": null,
      "outputs": []
    },
    {
      "cell_type": "code",
      "source": [
        "warmup_steps = math.ceil(len(train_dataloader) * num_epochs  * 0.3)  # 10% of train data for warm-up\n",
        "logging.info(f\"Warmup-steps: {warmup_steps}\")"
      ],
      "metadata": {
        "id": "CchmnQnl7UQf"
      },
      "execution_count": null,
      "outputs": []
    },
    {
      "cell_type": "code",
      "source": [
        "model.fit(\n",
        "    train_objectives=[(train_dataloader, train_loss)],\n",
        "    evaluator=evaluator,\n",
        "    epochs=num_epochs,\n",
        "    evaluation_steps=1000,\n",
        "    warmup_steps=warmup_steps,\n",
        "    output_path=model_save_path,\n",
        ")"
      ],
      "metadata": {
        "id": "8CxSHCUT7Yei"
      },
      "execution_count": null,
      "outputs": []
    },
    {
      "cell_type": "code",
      "source": [
        "model = SentenceTransformer(model_save_path)\n",
        "test_evaluator = EmbeddingSimilarityEvaluator.from_input_examples(test_samples, name='sts-test')"
      ],
      "metadata": {
        "id": "X4oTJjGAAFhA"
      },
      "execution_count": null,
      "outputs": []
    },
    {
      "cell_type": "code",
      "source": [
        "test_evaluator(model, output_path=model_save_path)"
      ],
      "metadata": {
        "id": "RemGGroWAJpl"
      },
      "execution_count": null,
      "outputs": []
    }
  ]
}